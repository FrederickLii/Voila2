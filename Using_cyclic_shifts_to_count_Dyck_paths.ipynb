{
 "cells": [
  {
   "cell_type": "markdown",
   "id": "2929fd77",
   "metadata": {},
   "source": [
    "# Using cyclic shifts to count Dyck paths\n",
    "\n",
    "If we take a look at a non-Dyck path, for example, ```'UDDUDU'```, the sequence of $y$-coordinate is $(0,1,0,-1,0,-1,0)$, we may notice that the reason why this path is not Dyck is because the starting point is not the lowest point w.r.t. the $y$-value.\n",
    "\n",
    "**Question** How can we make a non-Dyck path Dyck?\n",
    "\n",
    "**Answer** Using a sequence of cyclic shifts to make the starting point lowest!\n",
    "\n",
    "However, this idea cannot provide a naive to count Dyck path, since each path may have many valley points. To solve this problem, we extend a Dyck/non-Dyck path by one more ```'D'```, which results into a path from $(0,0)$ to $(2n+1,-1)$, and this time, we only need to find one point with $y = 0$, but with the longest distance from the ending point. Easy to see,\n",
    "\n",
    "* Any extended path can create a collection of $2n+1$ extended paths by cyclic shifts, which contains only one path which can be extended from a Dyck path\n",
    "* These collections gives a disjoint decomposion of the whole set of extended paths and different collections have different extended Dyck path\n",
    "* Each Dyck path belongs to one collection after extension\n",
    "\n",
    "Based on this observation, we can calculate\n",
    "$$\n",
    "    C_n = \\frac{1}{2n + 1} \\binom{2n+1}{n} = \\frac{1}{n+1} \\binom{2n}{n}.\n",
    "$$"
   ]
  },
  {
   "cell_type": "code",
   "execution_count": 27,
   "id": "07059d61",
   "metadata": {},
   "outputs": [
    {
     "data": {
      "application/vnd.jupyter.widget-view+json": {
       "model_id": "1775b56843974b7490e7530ffbf83ea6",
       "version_major": 2,
       "version_minor": 0
      },
      "text/plain": [
       "Button(description='Random path', style=ButtonStyle())"
      ]
     },
     "metadata": {},
     "output_type": "display_data"
    },
    {
     "data": {
      "application/vnd.jupyter.widget-view+json": {
       "model_id": "086f647a1cbf4f04be05147f4f994ddf",
       "version_major": 2,
       "version_minor": 0
      },
      "text/plain": [
       "Output()"
      ]
     },
     "metadata": {},
     "output_type": "display_data"
    }
   ],
   "source": [
    "import ipywidgets as widgets\n",
    "import numpy as np\n",
    "from IPython.display import display,clear_output\n",
    "from matplotlib import pyplot as plt\n",
    "from matplotlib import animation\n",
    "import random\n",
    "import time\n",
    "\n",
    "button = widgets.Button(description=\"Random path\")\n",
    "output_widget = widgets.Output()\n",
    "\n",
    "display(button)\n",
    "\n",
    "def cyclic_shift(change):\n",
    "    l = random.randint(2,10)\n",
    "    fig, ax = plt.subplots()\n",
    "    ax.set_title(f'A random extended path of length {2*l + 1}')\n",
    "    ax.plot(np.arange(-1,2*l+3,step=1),np.array([0] * (2*l + 4)),'k')\n",
    "    ax.plot(np.array([2*l+1.8,2*l+2,2*l+1.8]),np.array([-0.2,0,0.2]),'k')\n",
    "    plt.text(2* l + 2.1,0.1,'x',color='k')\n",
    "    for _ in range(l+1):\n",
    "        ax.plot(np.arange(0,l+1,1) + _,np.arange(0,l+1,1) - _,'c')\n",
    "        ax.plot(np.arange(0,l+2,1) + _,np.arange(0,-l-2,-1) + _,'c')\n",
    "    ax.plot(np.arange(0,l+1,1) + l+1,np.arange(0,l+1,1) - l-1,'c')\n",
    "    ax.set_aspect('equal')\n",
    "    path = [0]\n",
    "    u,d = 0,0\n",
    "    for _ in range(2 * l):\n",
    "        if random.randint(0,1):\n",
    "            step = 1\n",
    "        else:\n",
    "            step = -1\n",
    "        path.append(path[-1] + step)\n",
    "        u += step + 1\n",
    "        d += 1 - step\n",
    "        if u == 2 * l:\n",
    "            while path[-1] > 0:\n",
    "                path.append(path[-1] -1)\n",
    "            break\n",
    "        if d == 2 * l:\n",
    "            while path[-1] < 0:\n",
    "                path.append(path[-1] +1)\n",
    "            break\n",
    "    path = path + [-1]\n",
    "            \n",
    "    line,= ax.plot(np.arange(0,len(path),1), np.array(path),'b')\n",
    "    plt.axis('off')\n",
    "    plt.grid(False)\n",
    "    if min(path) < 0:\n",
    "        flag = 'non-Dyck'\n",
    "    else:\n",
    "        flag = 'Dyck'\n",
    "    text = plt.text(0,-l-2,f'This path is extend from a {flag} path.')\n",
    "    \n",
    "    with output_widget:\n",
    "        output_widget.clear_output()\n",
    "        clear_output(wait=True)\n",
    "        display(fig)\n",
    "        time.sleep(1)\n",
    "        \n",
    "        if flag == 'Dyck':\n",
    "            line2, = ax.plot(np.arange(0,len(path) - 1,1), np.array(path[:-1]),'r')\n",
    "            display(fig)\n",
    "            time.sleep(2)\n",
    "        for _ in range(2*l + 1):\n",
    "            temp = path[1]\n",
    "            for i in range(len(path)):\n",
    "                path[i] -= temp\n",
    "            path.pop(0)\n",
    "            path.append(-1)\n",
    "            line.remove()\n",
    "            line, = ax.plot(np.arange(0,len(path),1), np.array(path),'b')\n",
    "            if min(path[:-1]) < 0:\n",
    "                flag = 'non-Dyck'\n",
    "            else:\n",
    "                flag = 'Dyck'\n",
    "            text.remove()\n",
    "            text = plt.text(0,-l-2,f'This path is extend from a {flag} path.')\n",
    "            output_widget.clear_output()\n",
    "            clear_output(wait=True)\n",
    "            display(fig)\n",
    "            time.sleep(1)\n",
    "            if flag == 'Dyck':\n",
    "                line2, = ax.plot(np.arange(0,len(path) - 1,1), np.array(path[:-1]),'r')\n",
    "                display(fig)\n",
    "                time.sleep(2)\n",
    "                \n",
    "        \n",
    "            \n",
    "        \n",
    "        \n",
    "button.on_click(cyclic_shift)\n",
    "display(output_widget)"
   ]
  },
  {
   "cell_type": "code",
   "execution_count": null,
   "id": "6f252934",
   "metadata": {},
   "outputs": [],
   "source": []
  }
 ],
 "metadata": {
  "kernelspec": {
   "display_name": "Python 3 (ipykernel)",
   "language": "python",
   "name": "python3"
  },
  "language_info": {
   "codemirror_mode": {
    "name": "ipython",
    "version": 3
   },
   "file_extension": ".py",
   "mimetype": "text/x-python",
   "name": "python",
   "nbconvert_exporter": "python",
   "pygments_lexer": "ipython3",
   "version": "3.11.2"
  }
 },
 "nbformat": 4,
 "nbformat_minor": 5
}
