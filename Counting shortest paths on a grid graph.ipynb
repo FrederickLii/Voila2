{
 "cells": [
  {
   "cell_type": "markdown",
   "id": "ba6b5281",
   "metadata": {},
   "source": [
    "# Counting shortest paths on a grid graph\n",
    "\n",
    "We will make a short survey of different algorithms to count shortest paths on a grid graph. We will denote $C_{m,n} = C(m,n)$ for $m,n \\in \\mathbb{Z}_{\\geqslant 0}$ to be the number of paths from $(0,0)$ to $(m,n)$ along ```UP```$=(1,0)$ or ```RIGHT```$=(0,1)$ directions.\n",
    "\n",
    "The easiest way is to use a recursion relation:\n",
    "\n",
    "***A path ending $(m,n)$ must reach either $(m-1,n)$ or $(m,n-1)$.***\n",
    "\n",
    "and count all the $C_{m',n'}$ for $0\\leqslant m' \\leqslant m$ and $1\\leqslant n' \\leqslant n$. The algorithm is shown as follows."
   ]
  },
  {
   "cell_type": "code",
   "execution_count": 3,
   "id": "4a2bfd89",
   "metadata": {},
   "outputs": [
    {
     "data": {
      "application/vnd.jupyter.widget-view+json": {
       "model_id": "e3d058bddc3a4e94b5effb3b2c5fc255",
       "version_major": 2,
       "version_minor": 0
      },
      "text/plain": [
       "Button(description='Random grid', style=ButtonStyle())"
      ]
     },
     "metadata": {},
     "output_type": "display_data"
    },
    {
     "data": {
      "application/vnd.jupyter.widget-view+json": {
       "model_id": "8d69e65dd89340c790ba63f9d938db59",
       "version_major": 2,
       "version_minor": 0
      },
      "text/plain": [
       "Output()"
      ]
     },
     "metadata": {},
     "output_type": "display_data"
    },
    {
     "data": {
      "image/png": "[encoded data removed]",
      "text/plain": [
       "<Figure size 640x480 with 1 Axes>"
      ]
     },
     "metadata": {},
     "output_type": "display_data"
    }
   ],
   "source": [
    "import ipywidgets as widgets\n",
    "import numpy as np\n",
    "from IPython.display import display,clear_output\n",
    "from matplotlib import pyplot as plt\n",
    "from matplotlib import animation\n",
    "import random\n",
    "import time\n",
    "\n",
    "button = widgets.Button(description=\"Random grid\")\n",
    "output_widget = widgets.Output()\n",
    "\n",
    "display(button)\n",
    "\n",
    "def recursivePathCount(change):\n",
    "    xLen = random.randint(0,8)\n",
    "    yLen = random.randint(0,8)\n",
    "    fig, ax = plt.subplots()\n",
    "    ax.set_title(f'Counting path ending at ({xLen},{yLen})')\n",
    "    for _ in range(xLen+1):\n",
    "        ax.plot(np.array([_]*(yLen+1)),np.arange(0,yLen+1,step=1),'c',marker='o')\n",
    "    for _ in range(yLen+1):\n",
    "        ax.plot(np.array([0,xLen]),np.array([_,_]),'c')\n",
    "    ax.set_aspect('equal')\n",
    "    plt.axis('off')\n",
    "    plt.grid(False)\n",
    "    \n",
    "    with output_widget:\n",
    "        output_widget.clear_output()\n",
    "        clear_output(wait=True)\n",
    "        display(fig)\n",
    "        time.sleep(0.2)\n",
    "        c = {(0,0):1}\n",
    "        plt.text(0,0,c[(0,0)],ha='center',verticalalignment='center',bbox=dict(boxstyle=\"round\",\n",
    "                   ec=(1., 0.5, 0.5),\n",
    "                   fc=(1., 0.8, 0.8),\n",
    "                   )\n",
    "         )\n",
    "        clear_output(wait=True)\n",
    "        display(fig)\n",
    "        time.sleep(0.2)\n",
    "        for i in range(yLen):\n",
    "            c[(0,i+1)] = 1\n",
    "            line,= ax.plot(np.array([0,0]),np.array([i,i+1]),'b')\n",
    "            clear_output(wait=True)\n",
    "            display(fig)\n",
    "            time.sleep(0.2)\n",
    "            line.remove()\n",
    "            plt.text(0,i+1,c[(0,i+1)],ha='center',verticalalignment='center',bbox=dict(boxstyle=\"round\",\n",
    "                   ec=(1., 0.5, 0.5),\n",
    "                   fc=(1., 0.8, 0.8),\n",
    "                   )\n",
    "            )\n",
    "            clear_output(wait=True)\n",
    "            display(fig)\n",
    "            time.sleep(0.2)\n",
    "            \n",
    "        for j in range(1,xLen + 1):\n",
    "            c[(j,0)] = 1\n",
    "            line,= ax.plot(np.array([j-1,j]),np.array([0,0]),'b')\n",
    "            clear_output(wait=True)\n",
    "            display(fig)\n",
    "            time.sleep(0.2)\n",
    "            line.remove()\n",
    "            plt.text(j,0,c[(j,0)],ha='center',verticalalignment='center',bbox=dict(boxstyle=\"round\",\n",
    "                   ec=(1., 0.5, 0.5),\n",
    "                   fc=(1., 0.8, 0.8),\n",
    "                   )\n",
    "            )\n",
    "            clear_output(wait=True)\n",
    "            display(fig)\n",
    "            time.sleep(0.2)\n",
    "            for i in range(1,yLen+1):\n",
    "                c[(j,i)] = c[(j-1,i)] + c[(j,i-1)]\n",
    "                line1,= ax.plot(np.array([j,j]),np.array([i-1,i]),'b')\n",
    "                line2,= ax.plot(np.array([j-1,j]),np.array([i,i]),'b')\n",
    "                clear_output(wait=True)\n",
    "                display(fig)\n",
    "                time.sleep(0.2)\n",
    "                line1.remove()\n",
    "                line2.remove()\n",
    "                plt.text(j,i,c[(j,i)],ha='center',verticalalignment='center',bbox=dict(boxstyle=\"round\",\n",
    "                   ec=(1., 0.5, 0.5),\n",
    "                   fc=(1., 0.8, 0.8),\n",
    "                   )\n",
    "            )\n",
    "                clear_output(wait=True)\n",
    "                display(fig)\n",
    "                time.sleep(0.2)\n",
    "        plt.text(xLen // 2,-0.5,f'The result is {c[(xLen,yLen)]}',ha='center',verticalalignment='center')\n",
    "        clear_output(wait=True)\n",
    "        display(fig)\n",
    "        time.sleep(0.2)\n",
    "        \n",
    "button.on_click(recursivePathCount)\n",
    "display(output_widget)"
   ]
  },
  {
   "cell_type": "code",
   "execution_count": null,
   "id": "00980cf9",
   "metadata": {},
   "outputs": [],
   "source": []
  }
 ],
 "metadata": {
  "kernelspec": {
   "display_name": "Python 3 (ipykernel)",
   "language": "python",
   "name": "python3"
  },
  "language_info": {
   "codemirror_mode": {
    "name": "ipython",
    "version": 3
   },
   "file_extension": ".py",
   "mimetype": "text/x-python",
   "name": "python",
   "nbconvert_exporter": "python",
   "pygments_lexer": "ipython3",
   "version": "3.11.2"
  }
 },
 "nbformat": 4,
 "nbformat_minor": 5
}
